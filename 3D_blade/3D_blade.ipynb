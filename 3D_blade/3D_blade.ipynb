{
 "cells": [
  {
   "cell_type": "code",
   "execution_count": 1,
   "id": "7225aea0",
   "metadata": {},
   "outputs": [],
   "source": [
    "import numpy as np\n"
   ]
  },
  {
   "cell_type": "code",
   "execution_count": 2,
   "id": "25e750b2",
   "metadata": {},
   "outputs": [],
   "source": [
    "radius = 5.7\n",
    "numb_points = 360\n",
    "layer_width = 0.5\n",
    "\n",
    "theta = np.linspace(0.0, 2 * np.pi, numb_points, endpoint=False)\n",
    "x = radius * np.cos(theta)\n",
    "y = radius * np.sin(theta)\n",
    "z_ones = np.ones_like(x)\n",
    "\n",
    "circle_1 = np.column_stack((x, y, z_ones * 0))\n",
    "circle_2 = np.column_stack((x, y, z_ones * layer_width))"
   ]
  },
  {
   "cell_type": "code",
   "execution_count": null,
   "id": "07279c3e",
   "metadata": {},
   "outputs": [],
   "source": []
  }
 ],
 "metadata": {
  "kernelspec": {
   "display_name": "venv",
   "language": "python",
   "name": "python3"
  },
  "language_info": {
   "codemirror_mode": {
    "name": "ipython",
    "version": 3
   },
   "file_extension": ".py",
   "mimetype": "text/x-python",
   "name": "python",
   "nbconvert_exporter": "python",
   "pygments_lexer": "ipython3",
   "version": "3.11.12"
  }
 },
 "nbformat": 4,
 "nbformat_minor": 5
}
