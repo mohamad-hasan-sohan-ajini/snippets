{
 "cells": [
  {
   "cell_type": "code",
   "execution_count": 1,
   "id": "7225aea0",
   "metadata": {},
   "outputs": [],
   "source": [
    "import numpy as np\n",
    "import pyvista as pv\n"
   ]
  },
  {
   "cell_type": "code",
   "execution_count": 2,
   "id": "25e750b2",
   "metadata": {},
   "outputs": [],
   "source": [
    "# unit: mm\n",
    "radius = 57.0\n",
    "num_points = 360\n",
    "layer_width = 0.5\n",
    "xy_res = 1000\n",
    "suction_inner_radius = 20.0\n",
    "suction_inner_height = 6.0\n",
    "suction_base_z = 4.0\n",
    "suction_eps = 0.1\n",
    "\n",
    "theta = np.linspace(0.0, 2 * np.pi, num_points, endpoint=False)\n",
    "\n",
    "x = radius * np.cos(theta)\n",
    "y = radius * np.sin(theta)\n",
    "z_ones = np.ones_like(x)"
   ]
  },
  {
   "cell_type": "code",
   "execution_count": 3,
   "id": "ab980227",
   "metadata": {},
   "outputs": [],
   "source": [
    "# lower disk layer\n",
    "lower_disk_top = np.column_stack((x, y, z_ones * 0))\n",
    "lower_disk_bottom = np.column_stack((x, y, z_ones * layer_width))"
   ]
  },
  {
   "cell_type": "code",
   "execution_count": 4,
   "id": "1f771ef1",
   "metadata": {},
   "outputs": [],
   "source": [
    "# lid curvature layer\n",
    "max_f = 1 / suction_eps\n",
    "upper_lid_top = []\n",
    "for r in np.linspace(suction_inner_radius, radius, xy_res):\n",
    "    x = r * np.cos(theta)\n",
    "    y = r * np.sin(theta)\n",
    "\n",
    "    t = r / suction_inner_radius\n",
    "    f = 1 / (t ** 2 - 1 + suction_eps)\n",
    "    z = z_ones * (f / max_f * suction_inner_height + suction_base_z)\n",
    "    upper_lid_top.append(np.column_stack((x, y, z)))\n",
    "\n",
    "upper_lid_bottom = [circle + layer_width for circle in upper_lid_top]"
   ]
  },
  {
   "cell_type": "code",
   "execution_count": null,
   "id": "927000f4",
   "metadata": {},
   "outputs": [],
   "source": [
    "# fins\n"
   ]
  },
  {
   "cell_type": "code",
   "execution_count": 6,
   "id": "07279c3e",
   "metadata": {},
   "outputs": [
    {
     "data": {
      "application/vnd.jupyter.widget-view+json": {
       "model_id": "55194e16fa8146d9baaf5c1882fd701f",
       "version_major": 2,
       "version_minor": 0
      },
      "text/plain": [
       "Widget(value='<iframe src=\"http://localhost:46839/index.html?ui=P_0x7b3504791810_0&reconnect=auto\" class=\"pyvi…"
      ]
     },
     "metadata": {},
     "output_type": "display_data"
    }
   ],
   "source": [
    "plotter = pv.Plotter()\n",
    "point_size = 2\n",
    "\n",
    "lower_disk_top_cloud = pv.PolyData(lower_disk_top)\n",
    "plotter.add_points(lower_disk_top_cloud, color=\"#facade\", point_size=point_size, render_points_as_spheres=True)\n",
    "\n",
    "# lower_disk_bottom_cloud = pv.PolyData(lower_disk_bottom)\n",
    "# plotter.add_points(lower_disk_bottom_cloud, color=\"#abbade\",  point_size=point_size, render_points_as_spheres=True)\n",
    "\n",
    "for circle in upper_lid_top:\n",
    "    cloud = pv.PolyData(circle)\n",
    "    plotter.add_points(cloud, color=\"#badcab\", point_size=point_size, render_points_as_spheres=True)\n",
    "\n",
    "# for circle in upper_lid_bottom:\n",
    "#     cloud = pv.PolyData(circle)\n",
    "#     plotter.add_points(cloud, color=\"#ffaa00\", point_size=point_size, render_points_as_spheres=True)\n",
    "\n",
    "plotter.show_axes()\n",
    "plotter.show()"
   ]
  },
  {
   "cell_type": "code",
   "execution_count": null,
   "id": "5228a21c",
   "metadata": {},
   "outputs": [],
   "source": []
  }
 ],
 "metadata": {
  "kernelspec": {
   "display_name": "venv",
   "language": "python",
   "name": "python3"
  },
  "language_info": {
   "codemirror_mode": {
    "name": "ipython",
    "version": 3
   },
   "file_extension": ".py",
   "mimetype": "text/x-python",
   "name": "python",
   "nbconvert_exporter": "python",
   "pygments_lexer": "ipython3",
   "version": "3.11.12"
  }
 },
 "nbformat": 4,
 "nbformat_minor": 5
}
