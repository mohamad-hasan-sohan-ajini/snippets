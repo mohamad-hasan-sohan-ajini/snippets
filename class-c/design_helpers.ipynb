{
 "cells": [
  {
   "cell_type": "markdown",
   "id": "5a385ba9",
   "metadata": {},
   "source": [
    "# helper functions to design a 27 MHz transmitter"
   ]
  },
  {
   "cell_type": "code",
   "execution_count": 1,
   "id": "f72d11e9",
   "metadata": {},
   "outputs": [],
   "source": [
    "import math"
   ]
  },
  {
   "cell_type": "markdown",
   "id": "d88fa990",
   "metadata": {},
   "source": [
    "# Some useful tools"
   ]
  },
  {
   "cell_type": "code",
   "execution_count": 2,
   "id": "a46aa36e",
   "metadata": {},
   "outputs": [],
   "source": [
    "def compute_frequency(c_pf, l_nh):\n",
    "    return 1 / (2 * math.pi * math.sqrt(l_nh * 10 ** -9 * c_pf * 10 ** -12))\n",
    "\n",
    "\n",
    "def compute_q_factor(c_pf, l_nh, r_ohm):\n",
    "    return r_ohm * math.sqrt((c_pf * 10 ** -12) / (l_nh * 10 ** -9))\n"
   ]
  },
  {
   "cell_type": "code",
   "execution_count": 3,
   "id": "ef6879ea",
   "metadata": {},
   "outputs": [
    {
     "name": "stdout",
     "output_type": "stream",
     "text": [
      "C: 1000 pF    L: 33 nH      f: 27.71 MHz    Q@(70.00 Ohms): 12.19\n",
      "C: 100 pF     L: 333 nH     f: 27.58 MHz    Q@(70.00 Ohms): 1.21\n",
      "C: 70 pF      L: 500 nH     f: 26.90 MHz    Q@(70.00 Ohms): 0.83\n",
      "C: 35 pF      L: 1000 nH    f: 26.90 MHz    Q@(70.00 Ohms): 0.41\n",
      "C: 33 pF      L: 1000 nH    f: 27.71 MHz    Q@(70.00 Ohms): 0.40\n",
      "C: 12 pF      L: 3000 nH    f: 26.53 MHz    Q@(70.00 Ohms): 0.14\n",
      "C: 10 pF      L: 3300 nH    f: 27.71 MHz    Q@(70.00 Ohms): 0.12\n",
      "C: 3 pF       L: 10000 nH   f: 29.06 MHz    Q@(70.00 Ohms): 0.04\n"
     ]
    }
   ],
   "source": [
    "f_meghz = 27.\n",
    "r_v = 70.\n",
    "cl_pairs = [\n",
    "    (1000, 33),\n",
    "    (100, 333),\n",
    "    (70, 500),\n",
    "    (35, 1000),\n",
    "    (33, 1000),\n",
    "    (12, 3000),\n",
    "    (10, 3300),\n",
    "    (3, 10_000),\n",
    "]\n",
    "\n",
    "for c_pf, l_nh in cl_pairs:\n",
    "    f = compute_frequency(c_pf, l_nh)\n",
    "    q = compute_q_factor(c_pf, l_nh, r_v)\n",
    "    print(f\"C: {str(c_pf) + ' pF':<10} L: {str(l_nh) + ' nH': <10} f: {f / 10**6:.2f} MHz    Q@({r_v:.2f} Ohms): {q:.2f}\")\n"
   ]
  },
  {
   "cell_type": "markdown",
   "id": "be6e5f0e",
   "metadata": {},
   "source": [
    "# zero to hero design"
   ]
  },
  {
   "cell_type": "code",
   "execution_count": 6,
   "id": "965eab60",
   "metadata": {},
   "outputs": [
    {
     "name": "stdout",
     "output_type": "stream",
     "text": [
      "v: 12V, p: 0.5W, Q: 5, f: 27MHz: R_v = 144.00Ohm, C = 2.047e+02 pF, L = 1.698e+02 nH\n",
      "v: 10V, p: 0.5W, Q: 10, f: 3.65MHz: R_v = 100.00Ohm, C = 4.360e+03 pF, L = 4.360e+02 nH\n",
      "v: 9V, p: 0.5W, Q: 5, f: 27MHz: R_v = 81.00Ohm, C = 3.639e+02 pF, L = 9.549e+01 nH\n"
     ]
    }
   ],
   "source": [
    "def compute_elements(v_sup, p_out, q, f_meghz):\n",
    "    r_v = v_sup ** 2 / (2 * p_out)\n",
    "    c = q / (2 * math.pi * f_meghz * 10**6 * r_v)\n",
    "    l = 1 / ((2 * math.pi * f_meghz * 10**6) ** 2 * c)\n",
    "    return r_v, c, l\n",
    "\n",
    "\n",
    "vpqf_list = [\n",
    "    (12, 0.5, 5, 27),\n",
    "    (10, 0.5, 10, 3.65),\n",
    "    (9, 0.5, 5, 27),\n",
    "]\n",
    "\n",
    "for v_sup, p_out, q, f_meghz in vpqf_list:\n",
    "    r_v, c, l = compute_elements(v_sup, p_out, q, f_meghz)\n",
    "    c_pf = c * 10**12\n",
    "    l_nh = l * 10**9\n",
    "    print(f\"v: {v_sup}V, p: {p_out}W, Q: {q}, f: {f_meghz}MHz: R_v = {r_v:.2f}Ohm, C = {c_pf:.3e} pF, L = {l_nh:.3e} nH\")"
   ]
  },
  {
   "cell_type": "code",
   "execution_count": null,
   "id": "f0f5a37c",
   "metadata": {},
   "outputs": [],
   "source": []
  }
 ],
 "metadata": {
  "kernelspec": {
   "display_name": "venv",
   "language": "python",
   "name": "python3"
  },
  "language_info": {
   "codemirror_mode": {
    "name": "ipython",
    "version": 3
   },
   "file_extension": ".py",
   "mimetype": "text/x-python",
   "name": "python",
   "nbconvert_exporter": "python",
   "pygments_lexer": "ipython3",
   "version": "3.11.12"
  }
 },
 "nbformat": 4,
 "nbformat_minor": 5
}
