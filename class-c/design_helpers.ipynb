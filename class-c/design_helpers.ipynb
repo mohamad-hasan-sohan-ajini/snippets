{
 "cells": [
  {
   "cell_type": "markdown",
   "id": "5a385ba9",
   "metadata": {},
   "source": [
    "# helper functions to design a 27 MHz transmitter"
   ]
  },
  {
   "cell_type": "code",
   "execution_count": 1,
   "id": "f72d11e9",
   "metadata": {},
   "outputs": [],
   "source": [
    "import math"
   ]
  },
  {
   "cell_type": "code",
   "execution_count": 9,
   "id": "a46aa36e",
   "metadata": {},
   "outputs": [],
   "source": [
    "def compute_frequency(c_pf, l_nh):\n",
    "    return 1 / (2 * math.pi * math.sqrt(l_nh * 10 ** -9 * c_pf * 10 ** -12))\n",
    "\n",
    "\n",
    "def compute_q_factor(c_pf, l_nh, r_ohm):\n",
    "    return r_ohm * math.sqrt((c_pf * 10 ** -12) / (l_nh * 10 ** -9))\n"
   ]
  },
  {
   "cell_type": "code",
   "execution_count": null,
   "id": "f88ae863",
   "metadata": {},
   "outputs": [],
   "source": []
  },
  {
   "cell_type": "code",
   "execution_count": 26,
   "id": "ef6879ea",
   "metadata": {},
   "outputs": [
    {
     "name": "stdout",
     "output_type": "stream",
     "text": [
      "C: 1000 pF    L: 33 nH      f: 27.71 MHz    Q: 8.70\n",
      "C: 100 pF     L: 333 nH     f: 27.58 MHz    Q: 0.87\n",
      "C: 70 pF      L: 500 nH     f: 26.90 MHz    Q: 0.59\n",
      "C: 35 pF      L: 1000 nH    f: 26.90 MHz    Q: 0.30\n",
      "C: 33 pF      L: 1000 nH    f: 27.71 MHz    Q: 0.29\n",
      "C: 12 pF      L: 3000 nH    f: 26.53 MHz    Q: 0.10\n",
      "C: 10 pF      L: 3300 nH    f: 27.71 MHz    Q: 0.09\n",
      "C: 3 pF       L: 10000 nH   f: 29.06 MHz    Q: 0.03\n"
     ]
    }
   ],
   "source": [
    "cl_pairs = [\n",
    "    (1000, 33),\n",
    "    (100, 333),\n",
    "    (70, 500),\n",
    "    (35, 1000),\n",
    "    (33, 1000),\n",
    "    (12, 3000),\n",
    "    (10, 3300),\n",
    "    (3, 10_000),\n",
    "]\n",
    "\n",
    "for c_pf, l_nh in cl_pairs:\n",
    "    f = compute_frequency(c_pf, l_nh)\n",
    "    q = compute_q_factor(c_pf, l_nh, 50)\n",
    "    print(f\"C: {str(c_pf) + ' pF':<10} L: {str(l_nh) + ' nH': <10} f: {f / 10**6:.2f} MHz    Q: {q:.2f}\")\n"
   ]
  },
  {
   "cell_type": "code",
   "execution_count": null,
   "id": "81c3fde6",
   "metadata": {},
   "outputs": [],
   "source": []
  }
 ],
 "metadata": {
  "kernelspec": {
   "display_name": "venv",
   "language": "python",
   "name": "python3"
  },
  "language_info": {
   "codemirror_mode": {
    "name": "ipython",
    "version": 3
   },
   "file_extension": ".py",
   "mimetype": "text/x-python",
   "name": "python",
   "nbconvert_exporter": "python",
   "pygments_lexer": "ipython3",
   "version": "3.11.12"
  }
 },
 "nbformat": 4,
 "nbformat_minor": 5
}
