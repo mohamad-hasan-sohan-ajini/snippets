{
 "cells": [
  {
   "cell_type": "code",
   "execution_count": 1,
   "metadata": {},
   "outputs": [],
   "source": [
    "from pathlib import Path\n",
    "\n",
    "import matplotlib.pyplot as plt\n",
    "import numpy as np\n",
    "from PIL import Image, ImageDraw, ImageFont\n",
    "from tqdm.notebook import trange\n"
   ]
  },
  {
   "cell_type": "markdown",
   "metadata": {},
   "source": [
    "# create image"
   ]
  },
  {
   "cell_type": "code",
   "execution_count": 2,
   "metadata": {},
   "outputs": [],
   "source": [
    "NAME = 'Princess'\n",
    "# NAME = 'Hasan'\n",
    "FONT_SIZE = 60\n",
    "FONT = 'DejaVuSans.ttf'\n",
    "BLADE_MIN_SCALE = .07\n",
    "BLADE_MAX_SCALE = .11\n",
    "GEO_SCALE = 100\n",
    "NUM_BLADES = 1_000_000\n"
   ]
  },
  {
   "cell_type": "code",
   "execution_count": 3,
   "metadata": {},
   "outputs": [
    {
     "name": "stdout",
     "output_type": "stream",
     "text": [
      "text_size = (246, 71)\n"
     ]
    },
    {
     "data": {
      "image/png": "[encoded data removed]",
      "text/plain": [
       "<Figure size 640x480 with 1 Axes>"
      ]
     },
     "metadata": {},
     "output_type": "display_data"
    }
   ],
   "source": [
    "font = ImageFont.truetype(FONT, FONT_SIZE)\n",
    "text_size = (int(font.getlength(NAME)), sum(font.getmetrics()))\n",
    "print(f'{text_size = }')\n",
    "image = Image.new(mode='RGB', size=text_size, color='white')\n",
    "draw = ImageDraw.Draw(image)\n",
    "draw.text((0, 0), NAME, (0, 0, 0), font=font)\n",
    "plt.imshow(image)\n",
    "image_np = np.array(image)\n"
   ]
  },
  {
   "cell_type": "markdown",
   "metadata": {},
   "source": [
    "# load 3d models"
   ]
  },
  {
   "cell_type": "code",
   "execution_count": 4,
   "metadata": {},
   "outputs": [],
   "source": [
    "def load_obj(obj_path: Path) -> tuple[np.ndarray, list[str], list[str]]:\n",
    "    data = obj_path.read_text().strip().split('\\n')\n",
    "    vertices = np.array(\n",
    "        [\n",
    "            [float(j) for j in i[2:].split(' ')]\n",
    "            for i\n",
    "            in data\n",
    "            if i.startswith('v ')\n",
    "        ]\n",
    "    )\n",
    "    faces = [i for i in data if i.startswith('f ')]\n",
    "    texture_vertices = [i for i in data if i.startswith('vt ')]\n",
    "    return vertices, faces, texture_vertices\n",
    "\n",
    "\n",
    "def save_obj(\n",
    "        obj_path: Path,\n",
    "        vertices: np.ndarray,\n",
    "        texture_vertices: list[str],\n",
    "        faces: list[str],\n",
    ") -> None:\n",
    "    obj_text = ''\n",
    "    for v in vertices:\n",
    "        v_text = ' '.join([str(i) for i in v])\n",
    "        obj_text += f'v {v_text}\\n'\n",
    "    obj_text += '\\n' + '\\n'.join(texture_vertices)\n",
    "    obj_text += '\\n' * 2 + '\\n'.join(faces)\n",
    "    obj_path.write_text(obj_text)\n",
    "\n",
    "\n",
    "def random_green() -> np.ndarray:\n",
    "    color = np.array(\n",
    "        [\n",
    "            np.random.uniform(0., .1),\n",
    "            np.random.uniform(.4, .7),\n",
    "            np.random.uniform(.1, .3),\n",
    "        ]\n",
    "    )\n",
    "    return color\n",
    "\n",
    "\n",
    "def random_white() -> np.ndarray:\n",
    "    color = np.array([np.random.uniform(.7, .9)] * 3)\n",
    "    return color\n",
    "\n",
    "\n",
    "def apply_rodrigues_rotation(\n",
    "        vertices: np.ndarray,\n",
    "        rotation_vector: np.ndarray,\n",
    "        rotation_radian: float,\n",
    ") -> np.ndarray:\n",
    "    rotation_vector = rotation_vector / np.linalg.norm(rotation_vector)\n",
    "    cos_theta = np.cos(rotation_radian)\n",
    "    sin_theta = np.sin(rotation_radian)\n",
    "\n",
    "    term1 = vertices * cos_theta\n",
    "    term2 = np.cross(rotation_vector, vertices) * sin_theta\n",
    "    term3 = (\n",
    "        rotation_vector.reshape(3, 1)\n",
    "        * np.dot(vertices, rotation_vector)\n",
    "        * (1 - cos_theta)\n",
    "    )\n",
    "\n",
    "    return term1 + term2 + term3.T\n"
   ]
  },
  {
   "cell_type": "code",
   "execution_count": 5,
   "metadata": {},
   "outputs": [
    {
     "data": {
      "text/plain": [
       "array([[6.123234e-17, 1.000000e+00, 0.000000e+00]])"
      ]
     },
     "execution_count": 5,
     "metadata": {},
     "output_type": "execute_result"
    }
   ],
   "source": [
    "rotation_vector = np.array([0, 0, 1]).astype(np.float32)\n",
    "vector = np.array([[1, 0, 0]])\n",
    "apply_rodrigues_rotation(vector, rotation_vector, np.pi / 2)\n"
   ]
  },
  {
   "cell_type": "code",
   "execution_count": 6,
   "metadata": {},
   "outputs": [],
   "source": [
    "blade_base_path = Path('blades')\n",
    "blade_obj_files = sorted(blade_base_path.rglob('*.obj'))\n",
    "blade_obj_path = blade_obj_files[0]\n"
   ]
  },
  {
   "cell_type": "code",
   "execution_count": 7,
   "metadata": {},
   "outputs": [],
   "source": [
    "vertices, faces, texture_vertices = load_obj(blade_obj_path)\n",
    "save_obj(Path('zz.obj'), vertices, texture_vertices, faces)\n"
   ]
  },
  {
   "cell_type": "code",
   "execution_count": 8,
   "metadata": {},
   "outputs": [],
   "source": [
    "%%bash\n",
    "rm results/*.obj\n"
   ]
  },
  {
   "cell_type": "code",
   "execution_count": 9,
   "metadata": {},
   "outputs": [
    {
     "data": {
      "application/json": {
       "ascii": false,
       "bar_format": null,
       "colour": null,
       "elapsed": 0.004393100738525391,
       "initial": 0,
       "n": 0,
       "ncols": null,
       "nrows": null,
       "postfix": null,
       "prefix": "",
       "rate": null,
       "total": 100000,
       "unit": "it",
       "unit_divisor": 1000,
       "unit_scale": false
      },
      "application/vnd.jupyter.widget-view+json": {
       "model_id": "098000977d9f4be0bb29870e04cd54eb",
       "version_major": 2,
       "version_minor": 0
      },
      "text/plain": [
       "  0%|          | 0/100000 [00:00<?, ?it/s]"
      ]
     },
     "metadata": {},
     "output_type": "display_data"
    }
   ],
   "source": [
    "rotation_vector = np.array([0, 1, 0]).astype(np.float32)\n",
    "for i in trange(NUM_BLADES // 10):\n",
    "    # select and load random blade\n",
    "    vertices, faces, texture_vertices = load_obj(np.random.choice(blade_obj_files))\n",
    "    # random rotation\n",
    "    theta = np.random.uniform(0, 2 * np.pi)\n",
    "    vertices = apply_rodrigues_rotation(vertices, rotation_vector, theta)\n",
    "    # random scale\n",
    "    vertices *= np.random.uniform(BLADE_MIN_SCALE, BLADE_MAX_SCALE)\n",
    "    # random position\n",
    "    xd = np.random.uniform(0, text_size[0])\n",
    "    zd =  np.random.uniform(0, text_size[1])\n",
    "    vertices += np.array([xd, 0, zd]) / GEO_SCALE\n",
    "    # random color\n",
    "    if image.getpixel((xd, zd))[0] > 127:\n",
    "        save_obj(Path(f'results/grass{i:09d}-G.obj'), vertices, texture_vertices, faces)\n",
    "    else:\n",
    "        save_obj(Path(f'results/grass{i:09d}-W.obj'), vertices, texture_vertices, faces)\n"
   ]
  },
  {
   "cell_type": "code",
   "execution_count": null,
   "metadata": {},
   "outputs": [],
   "source": []
  }
 ],
 "metadata": {
  "kernelspec": {
   "display_name": "venv",
   "language": "python",
   "name": "python3"
  },
  "language_info": {
   "codemirror_mode": {
    "name": "ipython",
    "version": 3
   },
   "file_extension": ".py",
   "mimetype": "text/x-python",
   "name": "python",
   "nbconvert_exporter": "python",
   "pygments_lexer": "ipython3",
   "version": "3.11.6"
  }
 },
 "nbformat": 4,
 "nbformat_minor": 2
}
