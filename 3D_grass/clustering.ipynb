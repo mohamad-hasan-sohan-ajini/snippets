{
 "cells": [
  {
   "cell_type": "code",
   "execution_count": 1,
   "metadata": {},
   "outputs": [],
   "source": [
    "import random\n",
    "\n",
    "import numpy as np\n"
   ]
  },
  {
   "cell_type": "code",
   "execution_count": 2,
   "metadata": {},
   "outputs": [
    {
     "name": "stdout",
     "output_type": "stream",
     "text": [
      "163\n"
     ]
    }
   ],
   "source": [
    "with open('High/High Grass.obj') as f:\n",
    "    data = f.read().strip().split('\\n')\n",
    "\n",
    "\n",
    "vertices = np.array([[float(j) for j in i[2:].split(' ')] for i in data if i.startswith('v ')])\n",
    "faces = [i for i in data if i.startswith('f ')]\n",
    "texture_vertices = np.array([[float(j) for j in i[3:].split(' ')] for i in data if i.startswith('vt ')])\n",
    "\n",
    "# fine clusters\n",
    "v_clusters = []\n",
    "for face in faces:\n",
    "    face_vs = [int(f.split('/')[0]) for f in face.strip().split()[1:]]\n",
    "    v_cluster_index = None\n",
    "    for candind_index, candid_cluster in enumerate(v_clusters):\n",
    "        if any([v in candid_cluster for v in face_vs]):\n",
    "            v_cluster_index = candind_index\n",
    "            break\n",
    "    if v_cluster_index is not None:\n",
    "        v_clusters[v_cluster_index].update(set(face_vs))\n",
    "    else:\n",
    "        v_clusters.append(set(face_vs))\n",
    "\n",
    "print(len(v_clusters))\n"
   ]
  },
  {
   "cell_type": "code",
   "execution_count": 3,
   "metadata": {},
   "outputs": [
    {
     "name": "stdout",
     "output_type": "stream",
     "text": [
      "40\n"
     ]
    }
   ],
   "source": [
    "# coarse clusters\n",
    "\n",
    "\n",
    "def join_clusters(v_clusters: list[set]) -> list[set]:\n",
    "    coarse_clusters = []\n",
    "    for query_cluster in v_clusters:\n",
    "        ref_cluster_index = None\n",
    "        for candind_index, candid_cluster in enumerate(coarse_clusters):\n",
    "            if any([v in candid_cluster for v in query_cluster]):\n",
    "                ref_cluster_index = candind_index\n",
    "                break\n",
    "        if ref_cluster_index is not None:\n",
    "            coarse_clusters[ref_cluster_index].update(query_cluster)\n",
    "        else:\n",
    "            coarse_clusters.append(query_cluster)\n",
    "    return coarse_clusters\n",
    "\n",
    "\n",
    "for i in range(10):\n",
    "    v_clusters = join_clusters(v_clusters)\n",
    "print(len(v_clusters))\n"
   ]
  },
  {
   "cell_type": "code",
   "execution_count": 8,
   "metadata": {},
   "outputs": [],
   "source": [
    "for cluster_index, v_cluster in enumerate(v_clusters):\n",
    "    v_cluster_indices = np.array(sorted(v_cluster)) - 1\n",
    "    vs = vertices[v_cluster_indices]\n",
    "    with open(f'/tmp/zg{cluster_index:03d}.obj', 'w') as f:\n",
    "        # vertices\n",
    "        f.write('v ' + '\\nv '.join([' '.join([str(i) for i in v]) for v in vs]) + '\\n')\n",
    "        # texture vertices\n",
    "        for i in range(1, len(vertices) + 1):\n",
    "            f.write(f'vt {random.random()} {random.random()} 0\\n')\n",
    "        # faces\n",
    "        face_counter = 0\n",
    "        for face in faces:\n",
    "            vs = [int(i.split('/')[0]) for i in face.strip()[2:].split(' ')]\n",
    "            if any([v in v_cluster for v in vs]):\n",
    "                new_face = 'f ' + ' '.join([str(j) + '/' + str(face_counter + i) for i, j in enumerate(vs)]) + '\\n'\n",
    "                f.write(new_face)\n",
    "            face_counter += len(vs)\n"
   ]
  },
  {
   "cell_type": "code",
   "execution_count": 6,
   "metadata": {},
   "outputs": [
    {
     "data": {
      "text/plain": [
       "0.3113731336321167"
      ]
     },
     "execution_count": 6,
     "metadata": {},
     "output_type": "execute_result"
    }
   ],
   "source": [
    "random.random()\n"
   ]
  },
  {
   "cell_type": "code",
   "execution_count": null,
   "metadata": {},
   "outputs": [],
   "source": []
  }
 ],
 "metadata": {
  "kernelspec": {
   "display_name": "venv",
   "language": "python",
   "name": "python3"
  },
  "language_info": {
   "codemirror_mode": {
    "name": "ipython",
    "version": 3
   },
   "file_extension": ".py",
   "mimetype": "text/x-python",
   "name": "python",
   "nbconvert_exporter": "python",
   "pygments_lexer": "ipython3",
   "version": "3.11.6"
  }
 },
 "nbformat": 4,
 "nbformat_minor": 2
}
