{
 "cells": [
  {
   "cell_type": "code",
   "execution_count": 1,
   "metadata": {},
   "outputs": [],
   "source": [
    "import torch\n",
    "from torch import nn"
   ]
  },
  {
   "cell_type": "code",
   "execution_count": 2,
   "metadata": {},
   "outputs": [],
   "source": [
    "# num flag object points\n",
    "NUM_X_POINTS = 1500\n",
    "NUM_Y_POINTS = 1000\n",
    "NUM_Z_POINTS = 1\n",
    "\n",
    "INDEX_TO_POS = 1000"
   ]
  },
  {
   "cell_type": "code",
   "execution_count": 3,
   "metadata": {},
   "outputs": [
    {
     "data": {
      "text/plain": [
       "(torch.Size([1500, 1000, 1]),\n",
       " torch.Size([1500, 1000, 1]),\n",
       " torch.Size([1500, 1000, 1]))"
      ]
     },
     "execution_count": 3,
     "metadata": {},
     "output_type": "execute_result"
    }
   ],
   "source": [
    "# object dimensions grid\n",
    "grid_od1, grid_od2, grid_od3 = torch.meshgrid(torch.arange(1, NUM_X_POINTS+1), torch.arange(1, NUM_Y_POINTS+1), torch.arange(1, NUM_Z_POINTS+1), indexing=\"ij\")\n",
    "grid_od1.shape, grid_od2.shape, grid_od3.shape"
   ]
  },
  {
   "cell_type": "code",
   "execution_count": 4,
   "metadata": {},
   "outputs": [
    {
     "data": {
      "text/plain": [
       "torch.Size([1500, 1000, 1, 3])"
      ]
     },
     "execution_count": 4,
     "metadata": {},
     "output_type": "execute_result"
    }
   ],
   "source": [
    "position = torch.stack((grid_od1, grid_od2, grid_od3), dim=-1) / INDEX_TO_POS\n",
    "position.shape"
   ]
  },
  {
   "cell_type": "code",
   "execution_count": null,
   "metadata": {},
   "outputs": [],
   "source": [
    "# velocity = torch.randn_like(position) * .01\n",
    "velocity = torch.zeros_like(position)"
   ]
  },
  {
   "cell_type": "code",
   "execution_count": null,
   "metadata": {},
   "outputs": [],
   "source": [
    "def f_gravity(position):\n",
    "    # gravity force\n",
    "    result = torch.zeros_like(position)\n",
    "    result[..., 2] = -9.8\n",
    "    result[0, 0, 0], f_gravity[1, 0, 0], f_gravity[0, 1, 0]\n",
    "    return result\n",
    "\n",
    "\n",
    "def f_spring(position, ks, rest_length):\n",
    "    pdist = nn.PairwiseDistance(p=2)\n",
    "    ##################\n",
    "    # adjacent nodes #\n",
    "    ##################\n",
    "    # object dimension 1 spring\n",
    "    roll_pos = torch.roll(position, shifts=1, dims=0)\n",
    "    roll_pos[0, ...] = position[0, ...]\n",
    "    od1_pos = (pdist(position, roll_pos) - rest_length) * ks\n",
    "    roll_neg = torch.roll(position, shifts=-1, dims=0)\n",
    "    roll_neg[-1, ...] = position[-1, ...]\n",
    "    od1_neg = (pdist(position, roll_neg) - rest_length) * ks\n",
    "    # object dimension 2 spring\n",
    "    roll_pos = torch.roll(position, shifts=1, dims=1)\n",
    "    roll_pos[:, 0, ...] = position[:, 0, ...]\n",
    "    od2_pos = (pdist(position, roll_pos) - rest_length) * ks\n",
    "    roll_neg = torch.roll(position, shifts=-1, dims=1)\n",
    "    roll_neg[:, -1, ...] = position[:, -1, ...]\n",
    "    od2_neg = (pdist(position, roll_neg) - rest_length) * ks\n",
    "    # object dimension 3 spring\n",
    "    roll_pos = torch.roll(position, shifts=1, dims=2)\n",
    "    roll_pos[:, :, 0, ...] = position[:, :, 0, ...]\n",
    "    od3_pos = (pdist(position, roll_pos) - rest_length) * ks\n",
    "    roll_neg = torch.roll(position, shifts=-1, dims=2)\n",
    "    roll_neg[:, :, -1, ...] = position[:, :, -1, ...]\n",
    "    od3_neg = (pdist(position, roll_neg) - rest_length) * ks\n",
    "    ##################\n",
    "    # diagonal nodes #\n",
    "    ##################\n",
    "    # object dimension diagonal 12\n",
    "    # pos pos\n",
    "    roll_pos = torch.roll(position, shifts=1, dims=0)\n",
    "    roll_pos[0, ...] = position[0, ...]\n",
    "    roll_pos_pos = torch.roll(roll_pos, shifts=1, dims=1)\n",
    "    roll_pos_pos[:, 0, ...] = roll_pos[:, 0, ...]\n",
    "    od12_pos_pos = (pdist(position, roll_pos_pos) - rest_length) * ks\n",
    "    # pos neg\n",
    "    roll_pos = torch.roll(position, shifts=1, dims=0)\n",
    "    roll_pos[0, ...] = position[0, ...]\n",
    "    roll_pos_neg = torch.roll(roll_pos, shifts=-1, dims=1)\n",
    "    roll_pos_neg[:, -1, ...] = roll_pos[:, -1, ...]\n",
    "    od12_pos_neg = (pdist(position, roll_pos_neg) - rest_length) * ks\n",
    "    # neg pos\n",
    "    roll_neg = torch.roll(position, shifts=-1, dims=0)\n",
    "    roll_neg[-1, ...] = position[-1, ...]\n",
    "    roll_neg_pos = torch.roll(roll_neg, shifts=1, dims=1)\n",
    "    roll_neg_pos[:, 0, ...] = roll_neg[:, 0, ...]\n",
    "    od12_neg_pos = (pdist(position, roll_neg_pos) - rest_length) * ks\n",
    "    # neg neg\n",
    "    roll_neg = torch.roll(position, shifts=-1, dims=0)\n",
    "    roll_neg[-1, ...] = position[-1, ...]\n",
    "    roll_neg_neg = torch.roll(roll_neg, shifts=1, dims=1)\n",
    "    roll_neg_neg[:, -1, ...] = roll_neg[:, -1, ...]\n",
    "    od12_neg_neg = (pdist(position, roll_neg_neg) - rest_length) * ks\n",
    "    # object dimension diagonal 13\n",
    "    # pos pos\n",
    "    roll_pos = torch.roll(position, shifts=1, dims=0)\n",
    "    roll_pos[0, ...] = position[0, ...]\n",
    "    roll_pos_pos = torch.roll(roll_pos, shifts=1, dims=1)\n",
    "    roll_pos_pos[:, :, 0, ...] = roll_pos[:, :, 0, ...]\n",
    "    od13_pos_pos = (pdist(position, roll_pos_pos) - rest_length) * ks\n",
    "    # pos neg\n",
    "    roll_pos = torch.roll(position, shifts=1, dims=0)\n",
    "    roll_pos[0, ...] = position[0, ...]\n",
    "    roll_pos_neg = torch.roll(roll_pos, shifts=-1, dims=1)\n",
    "    roll_pos_neg[:, :, -1, ...] = roll_pos[:, :, -1, ...]\n",
    "    od13_pos_neg = (pdist(position, roll_pos_neg) - rest_length) * ks\n",
    "    # neg pos\n",
    "    roll_neg = torch.roll(position, shifts=-1, dims=0)\n",
    "    roll_neg[-1, ...] = position[-1, ...]\n",
    "    roll_neg_pos = torch.roll(roll_neg, shifts=1, dims=1)\n",
    "    roll_neg_pos[:, :, 0, ...] = roll_neg[:, :, 0, ...]\n",
    "    od13_neg_pos = (pdist(position, roll_neg_pos) - rest_length) * ks\n",
    "    # neg neg\n",
    "    roll_neg = torch.roll(position, shifts=-1, dims=0)\n",
    "    roll_neg[-1, ...] = position[-1, ...]\n",
    "    roll_neg_neg = torch.roll(roll_neg, shifts=1, dims=1)\n",
    "    roll_neg_neg[:, :, -1, ...] = roll_neg[:, :, -1, ...]\n",
    "    od13_neg_neg = (pdist(position, roll_neg_neg) - rest_length) * ks\n",
    "    # object dimension diagonal 23\n",
    "    # pos pos\n",
    "    roll_pos = torch.roll(position, shifts=1, dims=0)\n",
    "    roll_pos[:, 0, ...] = position[:, 0, ...]\n",
    "    roll_pos_pos = torch.roll(roll_pos, shifts=1, dims=1)\n",
    "    roll_pos_pos[:, :, 0, ...] = roll_pos[:, :, 0, ...]\n",
    "    od23_pos_pos = (pdist(position, roll_pos_pos) - rest_length) * ks\n",
    "    # pos neg\n",
    "    roll_pos = torch.roll(position, shifts=1, dims=0)\n",
    "    roll_pos[:, 0, ...] = position[:, 0, ...]\n",
    "    roll_pos_neg = torch.roll(roll_pos, shifts=-1, dims=1)\n",
    "    roll_pos_neg[:, :, -1, ...] = roll_pos[:, :, -1, ...]\n",
    "    od23_pos_neg = (pdist(position, roll_pos_neg) - rest_length) * ks\n",
    "    # neg pos\n",
    "    roll_neg = torch.roll(position, shifts=-1, dims=0)\n",
    "    roll_neg[:, -1, ...] = position[:, -1, ...]\n",
    "    roll_neg_pos = torch.roll(roll_neg, shifts=1, dims=1)\n",
    "    roll_neg_pos[:, :, 0, ...] = roll_neg[:, :, 0, ...]\n",
    "    od23_neg_pos = (pdist(position, roll_neg_pos) - rest_length) * ks\n",
    "    # neg neg\n",
    "    roll_neg = torch.roll(position, shifts=-1, dims=0)\n",
    "    roll_neg[:, -1, ...] = position[:, -1, ...]\n",
    "    roll_neg_neg = torch.roll(roll_neg, shifts=1, dims=1)\n",
    "    roll_neg_neg[:, :, -1, ...] = roll_neg[:, :, -1, ...]\n",
    "    od23_neg_neg = (pdist(position, roll_neg_neg) - rest_length) * ks\n",
    "    # sum up\n",
    "    adjacent_forces = od1_neg + od1_pos + od2_neg + od2_pos + od3_neg + od3_pos\n",
    "    diagonal_forces = od12_pos_pos + od12_pos_neg + od12_neg_pos + od12_neg_neg + od13_pos_pos + od13_pos_neg + od13_neg_pos + od13_neg_neg + od23_pos_pos + od23_pos_neg + od23_neg_pos + od23_neg_neg\n",
    "    forces = adjacent_forces + diagonal_forces\n",
    "\n",
    "\n",
    "def f_damp(position, velocity, kd):\n",
    "    # object dimension 1 damp\n",
    "    # object dimension 2 damp\n",
    "    # object dimension 3 damp\n",
    "    torch.zeros_like(position)\n",
    "\n",
    "\n",
    "def f_wind(position, time):\n",
    "    torch.zeros_like(position)"
   ]
  }
 ],
 "metadata": {
  "kernelspec": {
   "display_name": "venv",
   "language": "python",
   "name": "python3"
  },
  "language_info": {
   "codemirror_mode": {
    "name": "ipython",
    "version": 3
   },
   "file_extension": ".py",
   "mimetype": "text/x-python",
   "name": "python",
   "nbconvert_exporter": "python",
   "pygments_lexer": "ipython3",
   "version": "3.11.9"
  }
 },
 "nbformat": 4,
 "nbformat_minor": 2
}
