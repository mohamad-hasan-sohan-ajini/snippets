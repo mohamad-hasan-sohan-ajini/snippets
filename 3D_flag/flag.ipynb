{
 "cells": [
  {
   "cell_type": "code",
   "execution_count": 1,
   "metadata": {},
   "outputs": [],
   "source": [
    "import torch\n",
    "from torch import nn"
   ]
  },
  {
   "cell_type": "code",
   "execution_count": 2,
   "metadata": {},
   "outputs": [],
   "source": [
    "# num flag object points\n",
    "NUM_X_POINTS = 2\n",
    "NUM_Y_POINTS = 2\n",
    "NUM_Z_POINTS = 1\n",
    "\n",
    "INDEX_TO_POS = 1000"
   ]
  },
  {
   "cell_type": "code",
   "execution_count": 3,
   "metadata": {},
   "outputs": [
    {
     "data": {
      "text/plain": [
       "(torch.Size([2, 2, 1]), torch.Size([2, 2, 1]), torch.Size([2, 2, 1]))"
      ]
     },
     "execution_count": 3,
     "metadata": {},
     "output_type": "execute_result"
    }
   ],
   "source": [
    "# object dimensions grid\n",
    "grid_od1, grid_od2, grid_od3 = torch.meshgrid(torch.arange(1, NUM_X_POINTS+1), torch.arange(1, NUM_Y_POINTS+1), torch.arange(1, NUM_Z_POINTS+1), indexing=\"ij\")\n",
    "grid_od1.shape, grid_od2.shape, grid_od3.shape"
   ]
  },
  {
   "cell_type": "code",
   "execution_count": 4,
   "metadata": {},
   "outputs": [
    {
     "data": {
      "text/plain": [
       "torch.Size([2, 2, 1, 3])"
      ]
     },
     "execution_count": 4,
     "metadata": {},
     "output_type": "execute_result"
    }
   ],
   "source": [
    "position = torch.stack((grid_od1, grid_od2, grid_od3), dim=-1) / INDEX_TO_POS\n",
    "position.shape"
   ]
  },
  {
   "cell_type": "code",
   "execution_count": 5,
   "metadata": {},
   "outputs": [],
   "source": [
    "# velocity = torch.randn_like(position) * .01\n",
    "velocity = torch.zeros_like(position)"
   ]
  },
  {
   "cell_type": "code",
   "execution_count": 6,
   "metadata": {},
   "outputs": [],
   "source": [
    "def f_gravity(position):\n",
    "    # gravity force\n",
    "    result = torch.zeros_like(position)\n",
    "    result[..., 2] = -9.8\n",
    "    result[0, 0, 0], f_gravity[1, 0, 0], f_gravity[0, 1, 0]\n",
    "    return result\n",
    "\n",
    "\n",
    "def roll_with_repeat(tensor, shifts, dims):\n",
    "    if shifts not in [-1, 1]:\n",
    "        raise ValueError(\"Shifts should be -1 or +1.\")\n",
    "    if dims not in [0, 1, 2]:\n",
    "        raise ValueError(\"Dims should be 0, 1, or 2.\")\n",
    "    # roll tensor\n",
    "    if dims == 0 and shifts == -1:\n",
    "        roll_tensor = torch.roll(tensor, shifts=-1, dims=0)\n",
    "        roll_tensor[-1, ...] = tensor[-1, ...]\n",
    "    if dims == 0 and shifts == 1:\n",
    "        roll_tensor = torch.roll(tensor, shifts=1, dims=0)\n",
    "        roll_tensor[0, ...] = tensor[0, ...]\n",
    "    if dims == 1 and shifts == -1:\n",
    "        roll_tensor = torch.roll(tensor, shifts=-1, dims=1)\n",
    "        roll_tensor[:, -1, ...] = tensor[:, -1, ...]\n",
    "    if dims == 1 and shifts == 1:\n",
    "        roll_tensor = torch.roll(tensor, shifts=1, dims=1)\n",
    "        roll_tensor[:, 0, ...] = tensor[:, 0, ...]\n",
    "    if dims == 2 and shifts == -1:\n",
    "        roll_tensor = torch.roll(tensor, shifts=-1, dims=2)\n",
    "        roll_tensor[:, :, -1, ...] = tensor[:, :, -1, ...]\n",
    "    if dims == 2 and shifts == 1:\n",
    "        roll_tensor = torch.roll(tensor, shifts=1, dims=2)\n",
    "        roll_tensor[:, :, 0, ...] = tensor[:, :, 0, ...]\n",
    "    return roll_tensor\n",
    "\n",
    "\n",
    "def roll_position_and_velocity(position, velocity, shifts, dims):\n",
    "    return roll_with_repeat(position, shifts, dims), roll_with_repeat(velocity, shifts, dims)\n",
    "\n",
    "\n",
    "def compute_spring_and_damper_forces(position, position_roll, velocity, velocity_roll, ks, kd, rest_length):\n",
    "    delta_position = position - position_roll\n",
    "    delta_position_normalize = nn.functional.normalize(delta_position, dim=-1)\n",
    "    delta_velocity = velocity - velocity_roll\n",
    "    f_spring = (torch.linalg.norm(delta_position, dim=-1) - rest_length) * ks\n",
    "    f_damper = (delta_position_normalize * delta_velocity).sum(-1) * kd\n",
    "    return (f_spring + f_damper).unsqueeze(-1) * delta_position_normalize\n",
    "\n",
    "\n",
    "def compute_internal_forces(position, velocity, ks, kd, rest_length):\n",
    "    ##################\n",
    "    # adjacent nodes #\n",
    "    ##################\n",
    "    # object dimension 1 spring\n",
    "    position_roll, velocity_roll = roll_position_and_velocity(position, velocity, 1, 0)\n",
    "    od1_pos = compute_spring_and_damper_forces(position, position_roll, velocity, velocity_roll, ks, kd, rest_length)\n",
    "    position_roll, velocity_roll = roll_position_and_velocity(position, velocity, -1, 0)\n",
    "    od1_neg = compute_spring_and_damper_forces(position, position_roll, velocity, velocity_roll, ks, kd, rest_length)\n",
    "    # object dimension 2 spring\n",
    "    position_roll, velocity_roll = roll_position_and_velocity(position, velocity, 1, 1)\n",
    "    od2_pos = compute_spring_and_damper_forces(position, position_roll, velocity, velocity_roll, ks, kd, rest_length)\n",
    "    position_roll, velocity_roll = roll_position_and_velocity(position, velocity, -1, 1)\n",
    "    od2_neg = compute_spring_and_damper_forces(position, position_roll, velocity, velocity_roll, ks, kd, rest_length)\n",
    "    # object dimension 3 spring\n",
    "    position_roll, velocity_roll = roll_position_and_velocity(position, velocity, 1, 2)\n",
    "    od3_pos = compute_spring_and_damper_forces(position, position_roll, velocity, velocity_roll, ks, kd, rest_length)\n",
    "    position_roll, velocity_roll = roll_position_and_velocity(position, velocity, -1, 2)\n",
    "    od3_neg = compute_spring_and_damper_forces(position, position_roll, velocity, velocity_roll, ks, kd, rest_length)\n",
    "    ##################\n",
    "    # diagonal nodes #\n",
    "    ##################\n",
    "    # object dimension diagonal 12\n",
    "    # pos pos\n",
    "    position_roll, velocity_roll = roll_position_and_velocity(position, velocity, 1, 0)\n",
    "    position_roll, velocity_roll = roll_position_and_velocity(position_roll, velocity_roll, 1, 1)\n",
    "    od12_pos_pos = compute_spring_and_damper_forces(position, position_roll, velocity, velocity_roll, ks, kd, rest_length)\n",
    "    # pos neg\n",
    "    position_roll, velocity_roll = roll_position_and_velocity(position, velocity, 1, 0)\n",
    "    position_roll, velocity_roll = roll_position_and_velocity(position_roll, velocity_roll, -1, 1)\n",
    "    od12_pos_neg = compute_spring_and_damper_forces(position, position_roll, velocity, velocity_roll, ks, kd, rest_length)\n",
    "    # neg pos\n",
    "    position_roll, velocity_roll = roll_position_and_velocity(position, velocity, -1, 0)\n",
    "    position_roll, velocity_roll = roll_position_and_velocity(position_roll, velocity_roll, 1, 1)\n",
    "    od12_neg_pos = compute_spring_and_damper_forces(position, position_roll, velocity, velocity_roll, ks, kd, rest_length)\n",
    "    # neg neg\n",
    "    position_roll, velocity_roll = roll_position_and_velocity(position, velocity, -1, 0)\n",
    "    position_roll, velocity_roll = roll_position_and_velocity(position_roll, velocity_roll, -1, 1)\n",
    "    od12_neg_neg = compute_spring_and_damper_forces(position, position_roll, velocity, velocity_roll, ks, kd, rest_length)\n",
    "    # object dimension diagonal 13\n",
    "    # pos pos\n",
    "    position_roll, velocity_roll = roll_position_and_velocity(position, velocity, 1, 0)\n",
    "    position_roll, velocity_roll = roll_position_and_velocity(position_roll, velocity_roll, 1, 2)\n",
    "    od13_pos_pos = compute_spring_and_damper_forces(position, position_roll, velocity, velocity_roll, ks, kd, rest_length)\n",
    "    # pos neg\n",
    "    position_roll, velocity_roll = roll_position_and_velocity(position, velocity, 1, 0)\n",
    "    position_roll, velocity_roll = roll_position_and_velocity(position_roll, velocity_roll, -1, 2)\n",
    "    od13_pos_neg = compute_spring_and_damper_forces(position, position_roll, velocity, velocity_roll, ks, kd, rest_length)\n",
    "    # neg pos\n",
    "    position_roll, velocity_roll = roll_position_and_velocity(position, velocity, -1, 0)\n",
    "    position_roll, velocity_roll = roll_position_and_velocity(position_roll, velocity_roll, 1, 2)\n",
    "    od13_neg_pos = compute_spring_and_damper_forces(position, position_roll, velocity, velocity_roll, ks, kd, rest_length)\n",
    "    # neg neg\n",
    "    position_roll, velocity_roll = roll_position_and_velocity(position, velocity, -1, 0)\n",
    "    position_roll, velocity_roll = roll_position_and_velocity(position_roll, velocity_roll, -1, 2)\n",
    "    od13_neg_neg = compute_spring_and_damper_forces(position, position_roll, velocity, velocity_roll, ks, kd, rest_length)\n",
    "    # object dimension diagonal 23\n",
    "    # pos pos\n",
    "    position_roll, velocity_roll = roll_position_and_velocity(position, velocity, 1, 1)\n",
    "    position_roll, velocity_roll = roll_position_and_velocity(position_roll, velocity_roll, 1, 2)\n",
    "    od23_pos_pos = compute_spring_and_damper_forces(position, position_roll, velocity, velocity_roll, ks, kd, rest_length)\n",
    "    # pos neg\n",
    "    position_roll, velocity_roll = roll_position_and_velocity(position, velocity, 1, 1)\n",
    "    position_roll, velocity_roll = roll_position_and_velocity(position_roll, velocity_roll, -1, 2)\n",
    "    od23_pos_neg = compute_spring_and_damper_forces(position, position_roll, velocity, velocity_roll, ks, kd, rest_length)\n",
    "    # neg pos\n",
    "    position_roll, velocity_roll = roll_position_and_velocity(position, velocity, -1, 1)\n",
    "    position_roll, velocity_roll = roll_position_and_velocity(position_roll, velocity_roll, 1, 2)\n",
    "    od23_neg_pos = compute_spring_and_damper_forces(position, position_roll, velocity, velocity_roll, ks, kd, rest_length)\n",
    "    # neg neg\n",
    "    position_roll, velocity_roll = roll_position_and_velocity(position, velocity, -1, 1)\n",
    "    position_roll, velocity_roll = roll_position_and_velocity(position_roll, velocity_roll, -1, 2)\n",
    "    od23_neg_neg = compute_spring_and_damper_forces(position, position_roll, velocity, velocity_roll, ks, kd, rest_length)\n",
    "    ##########\n",
    "    # sum up #\n",
    "    ##########\n",
    "    adjacent_forces = od1_neg + od1_pos + od2_neg + od2_pos + od3_neg + od3_pos\n",
    "    diagonal_forces = od12_pos_pos + od12_pos_neg + od12_neg_pos + od12_neg_neg + od13_pos_pos + od13_pos_neg + od13_neg_pos + od13_neg_neg + od23_pos_pos + od23_pos_neg + od23_neg_pos + od23_neg_neg\n",
    "    forces = adjacent_forces + diagonal_forces\n",
    "    return forces\n",
    "\n",
    "\n",
    "def f_wind(position, time):\n",
    "    torch.zeros_like(position)"
   ]
  },
  {
   "cell_type": "code",
   "execution_count": 7,
   "metadata": {},
   "outputs": [
    {
     "data": {
      "text/plain": [
       "tensor([[[[ 4.7021,  4.7021, -0.0000]],\n",
       "\n",
       "         [[ 4.7021, -4.7021, -0.0000]]],\n",
       "\n",
       "\n",
       "        [[[-4.7021,  4.7021, -0.0000]],\n",
       "\n",
       "         [[-4.7021, -4.7021, -0.0000]]]])"
      ]
     },
     "execution_count": 7,
     "metadata": {},
     "output_type": "execute_result"
    }
   ],
   "source": [
    "ks, kd, rest_length = 1, 1, 1\n",
    "compute_internal_forces(position, velocity, ks, kd, rest_length)"
   ]
  },
  {
   "cell_type": "code",
   "execution_count": null,
   "metadata": {},
   "outputs": [],
   "source": []
  }
 ],
 "metadata": {
  "kernelspec": {
   "display_name": "venv",
   "language": "python",
   "name": "python3"
  },
  "language_info": {
   "codemirror_mode": {
    "name": "ipython",
    "version": 3
   },
   "file_extension": ".py",
   "mimetype": "text/x-python",
   "name": "python",
   "nbconvert_exporter": "python",
   "pygments_lexer": "ipython3",
   "version": "3.11.9"
  }
 },
 "nbformat": 4,
 "nbformat_minor": 2
}
